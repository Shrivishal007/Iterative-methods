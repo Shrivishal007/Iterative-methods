{
 "cells": [
  {
   "cell_type": "markdown",
   "id": "de98d4d3",
   "metadata": {},
   "source": [
    "## FORMULA"
   ]
  },
  {
   "cell_type": "markdown",
   "id": "5d027c04",
   "metadata": {},
   "source": [
    "Given a system of 3 linear equations :"
   ]
  },
  {
   "cell_type": "markdown",
   "id": "cedb603a",
   "metadata": {},
   "source": [
    "$$\n",
    "a_{1}x + b_{1}y + c_{1}z = d_{1}\n",
    "$$\n",
    "$$\n",
    "a_{2}x + b_{2}y + c_{2}z = d_{2}\n",
    "$$\n",
    "$$\n",
    "a_{3}x + b_{3}y + c_{3}z = d_{3}\n",
    "$$"
   ]
  },
  {
   "cell_type": "markdown",
   "id": "0f06869b",
   "metadata": {},
   "source": [
    "We solve for x, y, and z iteratively using the following formulas with initial guess x = 0, y = 0, z = 0 and a good choice of ω is usually between 1 and 2."
   ]
  },
  {
   "cell_type": "markdown",
   "id": "cb5a980c",
   "metadata": {},
   "source": [
    "### Gauss-Jacobi Method\n",
    "\n",
    "Each variable is updated using values from the **previous iteration** :"
   ]
  },
  {
   "cell_type": "markdown",
   "id": "a261eafa",
   "metadata": {},
   "source": [
    "$$\n",
    "x^{(k + 1)} = \\frac{(d_1 - b_1y^{(k)} - c_1z^{(k)})}{a_1}\n",
    "$$\n",
    "$$\n",
    "y^{(k + 1)} = \\frac{(d_2 - a_2x^{(k)} - c_2z^{(k)})}{b_2}\n",
    "$$\n",
    "$$\n",
    "z^{(k + 1)} = \\frac{(d_3 - a_3x^{(k)} - b_3y^{(k)})}{c_3}\n",
    "$$"
   ]
  },
  {
   "cell_type": "markdown",
   "id": "fb4813ee",
   "metadata": {},
   "source": [
    "### Gauss-Seidel Method\n",
    "\n",
    "Each variable is updated **immediately** and used in the next calculation :"
   ]
  },
  {
   "cell_type": "markdown",
   "id": "f1fe5d76",
   "metadata": {},
   "source": [
    "$$\n",
    "x^{(k + 1)} = \\frac{(d_1 - b_1y^{(k)} - c_1z^{(k)})}{a_1}\n",
    "$$\n",
    "$$\n",
    "y^{(k + 1)} = \\frac{(d_2 - a_2x^{(k + 1)} - c_2z^{(k)})}{b_2}\n",
    "$$\n",
    "$$\n",
    "z^{(k + 1)} = \\frac{(d_3 - a_3x^{(k + 1)} - b_3y^{(k + 1)})}{c_3}\n",
    "$$"
   ]
  },
  {
   "cell_type": "markdown",
   "id": "effcec20",
   "metadata": {},
   "source": [
    "### SOR (Successive Over-Relaxation) Method\n",
    "\n",
    "This method improves Gauss-Seidel by introducing a **relaxation factor (ω)** :"
   ]
  },
  {
   "cell_type": "markdown",
   "id": "813d0679",
   "metadata": {},
   "source": [
    "$$\n",
    "x^{(k + 1)} = (1 - \\omega)x^{(k)} + \\frac{\\omega}{a_1}(d_1 - b_1y^{(k)} - c_1z^{(k)})\n",
    "$$\n",
    "$$\n",
    "y^{(k + 1)} = (1 - \\omega)y^{(k)} + \\frac{\\omega}{b_2}(d_2 - a_2x^{(k + 1)} - c_2z^{(k)})\n",
    "$$\n",
    "$$\n",
    "z^{(k + 1)} = (1 - \\omega)z^{(k)} + \\frac{\\omega}{c_3}(d_3 - a_3x^{(k + 1)} - b_3y^{(k + 1)})\n",
    "$$"
   ]
  }
 ],
 "metadata": {
  "language_info": {
   "name": "python"
  }
 },
 "nbformat": 4,
 "nbformat_minor": 5
}
